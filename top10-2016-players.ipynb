{
 "cells": [
  {
   "cell_type": "code",
   "execution_count": 1,
   "metadata": {},
   "outputs": [],
   "source": [
    "import pandas\n",
    "atletas_2016 = pandas.read_csv(\"datasets/2016_atletas.csv\")\n",
    "clubes_2016 = pandas.read_csv(\"datasets/2016_clubes.csv\")\n",
    "scout_2016 = pandas.read_csv(\"datasets/2016_scouts.csv\")\n",
    "\n",
    "status = pandas.read_csv(\"datasets/status.csv\")\n",
    "posicoes = pandas.read_csv(\"datasets/posicoes.csv\")\n",
    "pontuacao = pandas.read_csv(\"datasets/pontuacao.csv\")\n"
   ]
  },
  {
   "cell_type": "code",
   "execution_count": 2,
   "metadata": {},
   "outputs": [
    {
     "name": "stdout",
     "output_type": "stream",
     "text": [
      "Index(['atleta_id', 'rodada', 'clube_id', 'participou', 'pontos_num',\n",
      "       'media_num', 'preco_num', 'variacao_num', 'FS', 'PE', 'A', 'FT', 'FD',\n",
      "       'FF', 'G', 'I', 'PP', 'RB', 'FC', 'GC', 'CA', 'CV', 'SG', 'DD', 'DP',\n",
      "       'GS'],\n",
      "      dtype='object')\n"
     ]
    }
   ],
   "source": [
    "print(scout_2016.columns)"
   ]
  },
  {
   "cell_type": "code",
   "execution_count": 3,
   "metadata": {},
   "outputs": [
    {
     "name": "stdout",
     "output_type": "stream",
     "text": [
      "Index(['id', 'apelido', 'clube_id', 'posicao_id'], dtype='object')\n"
     ]
    }
   ],
   "source": [
    "print(atletas_2016.columns)"
   ]
  },
  {
   "cell_type": "code",
   "execution_count": 4,
   "metadata": {},
   "outputs": [],
   "source": [
    "scouts = scout_2016[['atleta_id','clube_id', 'rodada','pontos_num', 'preco_num']]\n"
   ]
  },
  {
   "cell_type": "code",
   "execution_count": 5,
   "metadata": {},
   "outputs": [],
   "source": [
    "soma_pontos = scouts.groupby(['atleta_id']).pontos_num.sum()"
   ]
  },
  {
   "cell_type": "code",
   "execution_count": 6,
   "metadata": {},
   "outputs": [
    {
     "data": {
      "text/plain": [
       "atleta_id\n",
       "68952    211.0\n",
       "62121    189.3\n",
       "87863    183.7\n",
       "88065    176.7\n",
       "87552    171.8\n",
       "86485    169.4\n",
       "68911    167.0\n",
       "87999    164.3\n",
       "50284    164.2\n",
       "71892    157.9\n",
       "Name: pontos_num, dtype: float64"
      ]
     },
     "execution_count": 6,
     "metadata": {},
     "output_type": "execute_result"
    }
   ],
   "source": [
    "soma_pontos.sort_values(ascending=False)[:10]"
   ]
  },
  {
   "cell_type": "code",
   "execution_count": 7,
   "metadata": {},
   "outputs": [
    {
     "data": {
      "text/plain": [
       "atleta_id\n",
       "86754   -8.8\n",
       "84847   -7.9\n",
       "71724   -7.6\n",
       "86527   -6.8\n",
       "37917   -6.5\n",
       "82613   -6.2\n",
       "37788   -5.9\n",
       "78151   -5.4\n",
       "82403   -4.6\n",
       "71719   -4.2\n",
       "Name: pontos_num, dtype: float64"
      ]
     },
     "execution_count": 7,
     "metadata": {},
     "output_type": "execute_result"
    }
   ],
   "source": [
    "soma_pontos.sort_values()[:10]"
   ]
  },
  {
   "cell_type": "code",
   "execution_count": 8,
   "metadata": {},
   "outputs": [],
   "source": [
    "soma = pandas.DataFrame(pandas.Series(soma_pontos))"
   ]
  },
  {
   "cell_type": "code",
   "execution_count": 9,
   "metadata": {},
   "outputs": [
    {
     "data": {
      "text/html": [
       "<div>\n",
       "<style scoped>\n",
       "    .dataframe tbody tr th:only-of-type {\n",
       "        vertical-align: middle;\n",
       "    }\n",
       "\n",
       "    .dataframe tbody tr th {\n",
       "        vertical-align: top;\n",
       "    }\n",
       "\n",
       "    .dataframe thead th {\n",
       "        text-align: right;\n",
       "    }\n",
       "</style>\n",
       "<table border=\"1\" class=\"dataframe\">\n",
       "  <thead>\n",
       "    <tr style=\"text-align: right;\">\n",
       "      <th></th>\n",
       "      <th>pontos_num</th>\n",
       "    </tr>\n",
       "    <tr>\n",
       "      <th>atleta_id</th>\n",
       "      <th></th>\n",
       "    </tr>\n",
       "  </thead>\n",
       "  <tbody>\n",
       "    <tr>\n",
       "      <th>36540</th>\n",
       "      <td>32.3</td>\n",
       "    </tr>\n",
       "    <tr>\n",
       "      <th>36591</th>\n",
       "      <td>0.0</td>\n",
       "    </tr>\n",
       "    <tr>\n",
       "      <th>36612</th>\n",
       "      <td>81.4</td>\n",
       "    </tr>\n",
       "    <tr>\n",
       "      <th>36650</th>\n",
       "      <td>48.3</td>\n",
       "    </tr>\n",
       "    <tr>\n",
       "      <th>36856</th>\n",
       "      <td>32.0</td>\n",
       "    </tr>\n",
       "  </tbody>\n",
       "</table>\n",
       "</div>"
      ],
      "text/plain": [
       "           pontos_num\n",
       "atleta_id            \n",
       "36540            32.3\n",
       "36591             0.0\n",
       "36612            81.4\n",
       "36650            48.3\n",
       "36856            32.0"
      ]
     },
     "execution_count": 9,
     "metadata": {},
     "output_type": "execute_result"
    }
   ],
   "source": [
    "soma.head()"
   ]
  },
  {
   "cell_type": "code",
   "execution_count": 10,
   "metadata": {},
   "outputs": [],
   "source": [
    "atletas = atletas_2016[['id', 'apelido']]"
   ]
  },
  {
   "cell_type": "code",
   "execution_count": 11,
   "metadata": {},
   "outputs": [
    {
     "data": {
      "text/html": [
       "<div>\n",
       "<style scoped>\n",
       "    .dataframe tbody tr th:only-of-type {\n",
       "        vertical-align: middle;\n",
       "    }\n",
       "\n",
       "    .dataframe tbody tr th {\n",
       "        vertical-align: top;\n",
       "    }\n",
       "\n",
       "    .dataframe thead th {\n",
       "        text-align: right;\n",
       "    }\n",
       "</style>\n",
       "<table border=\"1\" class=\"dataframe\">\n",
       "  <thead>\n",
       "    <tr style=\"text-align: right;\">\n",
       "      <th></th>\n",
       "      <th>id</th>\n",
       "      <th>apelido</th>\n",
       "    </tr>\n",
       "  </thead>\n",
       "  <tbody>\n",
       "    <tr>\n",
       "      <th>0</th>\n",
       "      <td>89258</td>\n",
       "      <td>Daniel</td>\n",
       "    </tr>\n",
       "    <tr>\n",
       "      <th>1</th>\n",
       "      <td>68873</td>\n",
       "      <td>Paulo Victor</td>\n",
       "    </tr>\n",
       "    <tr>\n",
       "      <th>2</th>\n",
       "      <td>79066</td>\n",
       "      <td>Alex Muralha</td>\n",
       "    </tr>\n",
       "    <tr>\n",
       "      <th>3</th>\n",
       "      <td>91194</td>\n",
       "      <td>Thiago</td>\n",
       "    </tr>\n",
       "    <tr>\n",
       "      <th>4</th>\n",
       "      <td>38109</td>\n",
       "      <td>Jefferson</td>\n",
       "    </tr>\n",
       "  </tbody>\n",
       "</table>\n",
       "</div>"
      ],
      "text/plain": [
       "      id       apelido\n",
       "0  89258        Daniel\n",
       "1  68873  Paulo Victor\n",
       "2  79066  Alex Muralha\n",
       "3  91194        Thiago\n",
       "4  38109     Jefferson"
      ]
     },
     "execution_count": 11,
     "metadata": {},
     "output_type": "execute_result"
    }
   ],
   "source": [
    "atletas.head()"
   ]
  },
  {
   "cell_type": "code",
   "execution_count": 12,
   "metadata": {},
   "outputs": [],
   "source": [
    "result_top_10 = pandas.DataFrame(columns =  [\"Nome\",\"Time\",\"Posição\", \"Soma\"]) "
   ]
  },
  {
   "cell_type": "code",
   "execution_count": 13,
   "metadata": {},
   "outputs": [],
   "source": [
    "def atleta_completo(id):\n",
    "    for row in atletas_2016.iterrows():\n",
    "        ide=row[1]['id']\n",
    "        pos = row[1]['posicao_id']\n",
    "        if ide == id:\n",
    "            nome = row[1]['apelido']\n",
    "            clube_ide = row[1]['clube_id']\n",
    "            for row_clube in clubes_2016.iterrows():\n",
    "                if clube_ide == row_clube[1]['id']:\n",
    "                    clube_nome = row_clube[1]['nome']\n",
    "            for row_pos in posicoes.iterrows():\n",
    "                if pos == row_pos[1]['id']:\n",
    "                    posicao = row_pos[1]['nome']\n",
    "    return[nome, clube_nome, posicao]            \n",
    "    "
   ]
  },
  {
   "cell_type": "code",
   "execution_count": 14,
   "metadata": {},
   "outputs": [],
   "source": [
    "for row in atletas.iterrows():\n",
    "    ide=row[1]['id']\n",
    "    for row_soma in soma_pontos.iteritems():\n",
    "        soma = row_soma[1]\n",
    "        if ide == row_soma[0]:\n",
    "            atleta = atleta_completo(ide)\n",
    "            nome_atleta = atleta[0]\n",
    "            clube_atleta = atleta[1]\n",
    "            posicao = atleta[2]\n",
    "            list1 = [nome_atleta,clube_atleta,posicao, soma] \n",
    "            result_top_10.loc[len(result_top_10)] = list1\n",
    "            "
   ]
  },
  {
   "cell_type": "code",
   "execution_count": 15,
   "metadata": {},
   "outputs": [
    {
     "data": {
      "text/html": [
       "<div>\n",
       "<style scoped>\n",
       "    .dataframe tbody tr th:only-of-type {\n",
       "        vertical-align: middle;\n",
       "    }\n",
       "\n",
       "    .dataframe tbody tr th {\n",
       "        vertical-align: top;\n",
       "    }\n",
       "\n",
       "    .dataframe thead th {\n",
       "        text-align: right;\n",
       "    }\n",
       "</style>\n",
       "<table border=\"1\" class=\"dataframe\">\n",
       "  <thead>\n",
       "    <tr style=\"text-align: right;\">\n",
       "      <th></th>\n",
       "      <th>Nome</th>\n",
       "      <th>Time</th>\n",
       "      <th>Posição</th>\n",
       "      <th>Soma</th>\n",
       "    </tr>\n",
       "  </thead>\n",
       "  <tbody>\n",
       "    <tr>\n",
       "      <th>856</th>\n",
       "      <td>Marinho</td>\n",
       "      <td>Vitória</td>\n",
       "      <td>Atacante</td>\n",
       "      <td>211.0</td>\n",
       "    </tr>\n",
       "    <tr>\n",
       "      <th>29</th>\n",
       "      <td>Vanderlei</td>\n",
       "      <td>Santos</td>\n",
       "      <td>Goleiro</td>\n",
       "      <td>189.3</td>\n",
       "    </tr>\n",
       "    <tr>\n",
       "      <th>523</th>\n",
       "      <td>Arrascaeta</td>\n",
       "      <td>Cruzeiro</td>\n",
       "      <td>Meia</td>\n",
       "      <td>183.7</td>\n",
       "    </tr>\n",
       "    <tr>\n",
       "      <th>99</th>\n",
       "      <td>Jorge</td>\n",
       "      <td>Flamengo</td>\n",
       "      <td>Lateral</td>\n",
       "      <td>176.7</td>\n",
       "    </tr>\n",
       "    <tr>\n",
       "      <th>483</th>\n",
       "      <td>Vitor Bueno</td>\n",
       "      <td>Santos</td>\n",
       "      <td>Meia</td>\n",
       "      <td>171.8</td>\n",
       "    </tr>\n",
       "    <tr>\n",
       "      <th>951</th>\n",
       "      <td>Keno</td>\n",
       "      <td>Santa Cruz</td>\n",
       "      <td>Atacante</td>\n",
       "      <td>169.4</td>\n",
       "    </tr>\n",
       "    <tr>\n",
       "      <th>590</th>\n",
       "      <td>Diego Souza</td>\n",
       "      <td>Sport</td>\n",
       "      <td>Meia</td>\n",
       "      <td>167.0</td>\n",
       "    </tr>\n",
       "    <tr>\n",
       "      <th>441</th>\n",
       "      <td>Gustavo Scarpa</td>\n",
       "      <td>Fluminense</td>\n",
       "      <td>Meia</td>\n",
       "      <td>164.3</td>\n",
       "    </tr>\n",
       "    <tr>\n",
       "      <th>72</th>\n",
       "      <td>Wilson</td>\n",
       "      <td>Coritiba</td>\n",
       "      <td>Goleiro</td>\n",
       "      <td>164.2</td>\n",
       "    </tr>\n",
       "    <tr>\n",
       "      <th>120</th>\n",
       "      <td>Wellington Silva</td>\n",
       "      <td>Fluminense</td>\n",
       "      <td>Lateral</td>\n",
       "      <td>157.9</td>\n",
       "    </tr>\n",
       "  </tbody>\n",
       "</table>\n",
       "</div>"
      ],
      "text/plain": [
       "                 Nome        Time   Posição   Soma\n",
       "856           Marinho     Vitória  Atacante  211.0\n",
       "29          Vanderlei      Santos   Goleiro  189.3\n",
       "523        Arrascaeta    Cruzeiro      Meia  183.7\n",
       "99              Jorge    Flamengo   Lateral  176.7\n",
       "483       Vitor Bueno      Santos      Meia  171.8\n",
       "951              Keno  Santa Cruz  Atacante  169.4\n",
       "590       Diego Souza       Sport      Meia  167.0\n",
       "441    Gustavo Scarpa  Fluminense      Meia  164.3\n",
       "72             Wilson    Coritiba   Goleiro  164.2\n",
       "120  Wellington Silva  Fluminense   Lateral  157.9"
      ]
     },
     "execution_count": 15,
     "metadata": {},
     "output_type": "execute_result"
    }
   ],
   "source": [
    "result_top_10.sort_values(by='Soma',ascending=False)[:10]"
   ]
  },
  {
   "cell_type": "code",
   "execution_count": 16,
   "metadata": {},
   "outputs": [
    {
     "data": {
      "text/html": [
       "<div>\n",
       "<style scoped>\n",
       "    .dataframe tbody tr th:only-of-type {\n",
       "        vertical-align: middle;\n",
       "    }\n",
       "\n",
       "    .dataframe tbody tr th {\n",
       "        vertical-align: top;\n",
       "    }\n",
       "\n",
       "    .dataframe thead th {\n",
       "        text-align: right;\n",
       "    }\n",
       "</style>\n",
       "<table border=\"1\" class=\"dataframe\">\n",
       "  <thead>\n",
       "    <tr style=\"text-align: right;\">\n",
       "      <th></th>\n",
       "      <th>Nome</th>\n",
       "      <th>Time</th>\n",
       "      <th>Posição</th>\n",
       "      <th>Soma</th>\n",
       "    </tr>\n",
       "  </thead>\n",
       "  <tbody>\n",
       "    <tr>\n",
       "      <th>550</th>\n",
       "      <td>Guilherme Amorim</td>\n",
       "      <td>Grêmio</td>\n",
       "      <td>Meia</td>\n",
       "      <td>-8.8</td>\n",
       "    </tr>\n",
       "    <tr>\n",
       "      <th>385</th>\n",
       "      <td>Luan Peres</td>\n",
       "      <td>Santa Cruz</td>\n",
       "      <td>Zagueiro</td>\n",
       "      <td>-7.9</td>\n",
       "    </tr>\n",
       "    <tr>\n",
       "      <th>64</th>\n",
       "      <td>Agenor</td>\n",
       "      <td>Sport</td>\n",
       "      <td>Goleiro</td>\n",
       "      <td>-7.6</td>\n",
       "    </tr>\n",
       "    <tr>\n",
       "      <th>721</th>\n",
       "      <td>Wellington Cézar</td>\n",
       "      <td>Santa Cruz</td>\n",
       "      <td>Meia</td>\n",
       "      <td>-6.8</td>\n",
       "    </tr>\n",
       "    <tr>\n",
       "      <th>486</th>\n",
       "      <td>Elano</td>\n",
       "      <td>Santos</td>\n",
       "      <td>Meia</td>\n",
       "      <td>-6.5</td>\n",
       "    </tr>\n",
       "    <tr>\n",
       "      <th>315</th>\n",
       "      <td>Alan Costa</td>\n",
       "      <td>Internacional</td>\n",
       "      <td>Zagueiro</td>\n",
       "      <td>-6.2</td>\n",
       "    </tr>\n",
       "    <tr>\n",
       "      <th>82</th>\n",
       "      <td>Marcelo Boeck</td>\n",
       "      <td>Chapecoense</td>\n",
       "      <td>Goleiro</td>\n",
       "      <td>-5.9</td>\n",
       "    </tr>\n",
       "    <tr>\n",
       "      <th>21</th>\n",
       "      <td>Vagner</td>\n",
       "      <td>Palmeiras</td>\n",
       "      <td>Goleiro</td>\n",
       "      <td>-5.4</td>\n",
       "    </tr>\n",
       "    <tr>\n",
       "      <th>243</th>\n",
       "      <td>César Martins</td>\n",
       "      <td>Flamengo</td>\n",
       "      <td>Zagueiro</td>\n",
       "      <td>-4.6</td>\n",
       "    </tr>\n",
       "    <tr>\n",
       "      <th>643</th>\n",
       "      <td>Elton</td>\n",
       "      <td>Ponte Preta</td>\n",
       "      <td>Meia</td>\n",
       "      <td>-4.2</td>\n",
       "    </tr>\n",
       "  </tbody>\n",
       "</table>\n",
       "</div>"
      ],
      "text/plain": [
       "                 Nome           Time   Posição  Soma\n",
       "550  Guilherme Amorim         Grêmio      Meia  -8.8\n",
       "385       Luan Peres      Santa Cruz  Zagueiro  -7.9\n",
       "64             Agenor          Sport   Goleiro  -7.6\n",
       "721  Wellington Cézar     Santa Cruz      Meia  -6.8\n",
       "486             Elano         Santos      Meia  -6.5\n",
       "315        Alan Costa  Internacional  Zagueiro  -6.2\n",
       "82      Marcelo Boeck    Chapecoense   Goleiro  -5.9\n",
       "21             Vagner      Palmeiras   Goleiro  -5.4\n",
       "243     César Martins       Flamengo  Zagueiro  -4.6\n",
       "643             Elton    Ponte Preta      Meia  -4.2"
      ]
     },
     "execution_count": 16,
     "metadata": {},
     "output_type": "execute_result"
    }
   ],
   "source": [
    "result_top_10.sort_values(by='Soma')[:10]"
   ]
  },
  {
   "cell_type": "code",
   "execution_count": 37,
   "metadata": {},
   "outputs": [],
   "source": [
    "def top10_posicao(data, posicao):\n",
    "    top = data['Posição'] == posicao\n",
    "    top10 = data[top].sort_values(by='Soma', ascending=False)[:10]\n",
    "    return top10\n",
    "    "
   ]
  },
  {
   "cell_type": "code",
   "execution_count": 40,
   "metadata": {},
   "outputs": [],
   "source": [
    "meia = top10_posicao(result_top_10, \"Meia\")"
   ]
  },
  {
   "cell_type": "code",
   "execution_count": 44,
   "metadata": {},
   "outputs": [
    {
     "name": "stdout",
     "output_type": "stream",
     "text": [
      "                Nome           Time  Posição   Soma\n",
      "29         Vanderlei         Santos  Goleiro  189.3\n",
      "72            Wilson       Coritiba  Goleiro  164.2\n",
      "2       Alex Muralha       Flamengo  Goleiro  153.0\n",
      "5              Sidão       Botafogo  Goleiro  146.1\n",
      "84            Danilo    Chapecoense  Goleiro  130.5\n",
      "26             Denis      São Paulo  Goleiro  126.9\n",
      "52  Danilo Fernandes  Internacional  Goleiro  117.7\n",
      "65            Magrão          Sport  Goleiro  113.9\n",
      "44     Marcelo Grohe         Grêmio  Goleiro  107.8\n",
      "66          Weverton    Atlético-PR  Goleiro  106.2\n",
      "********************************************************************************\n",
      "                 Nome           Time  Posição   Soma\n",
      "99              Jorge       Flamengo  Lateral  176.7\n",
      "120  Wellington Silva     Fluminense  Lateral  157.9\n",
      "112            Fagner    Corinthians  Lateral  145.5\n",
      "171       Diego Renan        Vitória  Lateral  138.0\n",
      "199          Reinaldo    Ponte Preta  Lateral  129.8\n",
      "138     Victor Ferraz         Santos  Lateral  128.0\n",
      "101              Pará       Flamengo  Lateral  115.6\n",
      "105       Victor Luis       Botafogo  Lateral  113.6\n",
      "185               Léo    Atlético-PR  Lateral  112.9\n",
      "163           William  Internacional  Lateral  109.3\n",
      "********************************************************************************\n",
      "               Nome           Time   Posição   Soma\n",
      "303   Pedro Geromel         Grêmio  Zagueiro  154.0\n",
      "347         Juninho       Coritiba  Zagueiro  144.7\n",
      "247  Emerson Santos       Botafogo  Zagueiro  121.4\n",
      "242           Réver       Flamengo  Zagueiro  118.3\n",
      "340   Thiago Heleno    Atlético-PR  Zagueiro  114.8\n",
      "360          Thiego    Chapecoense  Zagueiro  113.5\n",
      "273          Maicon      São Paulo  Zagueiro  107.1\n",
      "264      Vitor Hugo      Palmeiras  Zagueiro  101.6\n",
      "312         Ernando  Internacional  Zagueiro  101.1\n",
      "299   Bruno Rodrigo       Cruzeiro  Zagueiro   94.2\n",
      "********************************************************************************\n",
      "               Nome         Time Posição   Soma\n",
      "523      Arrascaeta     Cruzeiro    Meia  183.7\n",
      "483     Vitor Bueno       Santos    Meia  171.8\n",
      "590     Diego Souza        Sport    Meia  167.0\n",
      "441  Gustavo Scarpa   Fluminense    Meia  164.3\n",
      "398    Willian Arão     Flamengo    Meia  156.2\n",
      "455          Moisés    Palmeiras    Meia  134.6\n",
      "526        Henrique     Cruzeiro    Meia  134.5\n",
      "468   Thiago Mendes    São Paulo    Meia  127.6\n",
      "624            Juan     Coritiba    Meia  125.1\n",
      "507    Júnior Urso   Atlético-MG    Meia  121.9\n",
      "********************************************************************************\n",
      "                Nome         Time   Posição   Soma\n",
      "856          Marinho      Vitória  Atacante  211.0\n",
      "951             Keno   Santa Cruz  Atacante  169.4\n",
      "768    Gabriel Jesus    Palmeiras  Atacante  153.3\n",
      "806          Robinho  Atlético-MG  Atacante  147.4\n",
      "773             Dudu    Palmeiras  Atacante  142.4\n",
      "900  William Pottker  Ponte Preta  Atacante  141.2\n",
      "804             Fred  Atlético-MG  Atacante  141.0\n",
      "798           Copete       Santos  Atacante  124.9\n",
      "866          Rogério        Sport  Atacante  118.6\n",
      "783            Cueva    São Paulo  Atacante  117.4\n",
      "********************************************************************************\n",
      "                    Nome         Time  Posição    Soma\n",
      "954           Zé Ricardo     Flamengo  Técnico  150.98\n",
      "968       Dorival Júnior       Santos  Técnico  148.83\n",
      "963                 Cuca    Palmeiras  Técnico  139.92\n",
      "969     Marcelo Oliveira  Atlético-MG  Técnico  136.43\n",
      "965        Ricardo Gomes    São Paulo  Técnico  115.57\n",
      "982        Paulo Autuori  Atlético-PR  Técnico  113.43\n",
      "961          Levir Culpi   Fluminense  Técnico  111.41\n",
      "959  Oswaldo de Oliveira  Corinthians  Técnico  107.13\n",
      "979          Argel Fucks      Vitória  Técnico  106.46\n",
      "986     Eduardo Baptista  Ponte Preta  Técnico   99.18\n",
      "********************************************************************************\n"
     ]
    }
   ],
   "source": [
    "for row_pos in posicoes.iterrows():\n",
    "    posicao = row_pos[1]['nome']\n",
    "    top10 = top10_posicao(result_top_10, posicao)\n",
    "    print(top10)\n",
    "    print('*'*80)"
   ]
  },
  {
   "cell_type": "code",
   "execution_count": null,
   "metadata": {},
   "outputs": [],
   "source": []
  }
 ],
 "metadata": {
  "kernelspec": {
   "display_name": "Python 3",
   "language": "python",
   "name": "python3"
  },
  "language_info": {
   "codemirror_mode": {
    "name": "ipython",
    "version": 3
   },
   "file_extension": ".py",
   "mimetype": "text/x-python",
   "name": "python",
   "nbconvert_exporter": "python",
   "pygments_lexer": "ipython3",
   "version": "3.6.1"
  }
 },
 "nbformat": 4,
 "nbformat_minor": 2
}
