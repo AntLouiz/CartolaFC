{
 "cells": [
  {
   "cell_type": "code",
   "execution_count": 59,
   "metadata": {},
   "outputs": [],
   "source": [
    "import pandas\n",
    "atletas_2016 = pandas.read_csv(\"datasets/2016_atletas.csv\")\n",
    "clubes_2016 = pandas.read_csv(\"datasets/2016_clubes.csv\")\n",
    "scout_2016 = pandas.read_csv(\"datasets/2016_scouts.csv\")\n"
   ]
  },
  {
   "cell_type": "code",
   "execution_count": 60,
   "metadata": {},
   "outputs": [
    {
     "name": "stdout",
     "output_type": "stream",
     "text": [
      "Index(['atleta_id', 'rodada', 'clube_id', 'participou', 'pontos_num',\n",
      "       'media_num', 'preco_num', 'variacao_num', 'FS', 'PE', 'A', 'FT', 'FD',\n",
      "       'FF', 'G', 'I', 'PP', 'RB', 'FC', 'GC', 'CA', 'CV', 'SG', 'DD', 'DP',\n",
      "       'GS'],\n",
      "      dtype='object')\n"
     ]
    }
   ],
   "source": [
    "print(scout_2016.columns)"
   ]
  },
  {
   "cell_type": "code",
   "execution_count": 61,
   "metadata": {},
   "outputs": [],
   "source": [
    "scouts = scout_2016[['atleta_id', 'rodada','pontos_num', 'preco_num']]\n"
   ]
  },
  {
   "cell_type": "code",
   "execution_count": 62,
   "metadata": {},
   "outputs": [],
   "source": [
    "soma_pontos = scouts.groupby(['atleta_id']).pontos_num.sum()"
   ]
  },
  {
   "cell_type": "code",
   "execution_count": 63,
   "metadata": {},
   "outputs": [
    {
     "data": {
      "text/plain": [
       "atleta_id\n",
       "68952    211.0\n",
       "62121    189.3\n",
       "87863    183.7\n",
       "88065    176.7\n",
       "87552    171.8\n",
       "86485    169.4\n",
       "68911    167.0\n",
       "87999    164.3\n",
       "50284    164.2\n",
       "71892    157.9\n",
       "Name: pontos_num, dtype: float64"
      ]
     },
     "execution_count": 63,
     "metadata": {},
     "output_type": "execute_result"
    }
   ],
   "source": [
    "soma_pontos.sort_values(ascending=False)[:10]"
   ]
  },
  {
   "cell_type": "code",
   "execution_count": 64,
   "metadata": {},
   "outputs": [
    {
     "data": {
      "text/plain": [
       "atleta_id\n",
       "86754   -8.8\n",
       "84847   -7.9\n",
       "71724   -7.6\n",
       "86527   -6.8\n",
       "37917   -6.5\n",
       "82613   -6.2\n",
       "37788   -5.9\n",
       "78151   -5.4\n",
       "82403   -4.6\n",
       "71719   -4.2\n",
       "Name: pontos_num, dtype: float64"
      ]
     },
     "execution_count": 64,
     "metadata": {},
     "output_type": "execute_result"
    }
   ],
   "source": [
    "soma_pontos.sort_values()[:10]"
   ]
  },
  {
   "cell_type": "code",
   "execution_count": null,
   "metadata": {},
   "outputs": [],
   "source": []
  }
 ],
 "metadata": {
  "kernelspec": {
   "display_name": "Python 3",
   "language": "python",
   "name": "python3"
  },
  "language_info": {
   "codemirror_mode": {
    "name": "ipython",
    "version": 3
   },
   "file_extension": ".py",
   "mimetype": "text/x-python",
   "name": "python",
   "nbconvert_exporter": "python",
   "pygments_lexer": "ipython3",
   "version": "3.6.1"
  }
 },
 "nbformat": 4,
 "nbformat_minor": 2
}
