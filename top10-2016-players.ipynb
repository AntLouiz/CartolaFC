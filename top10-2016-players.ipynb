{
 "cells": [
  {
   "cell_type": "code",
   "execution_count": 1,
   "metadata": {},
   "outputs": [],
   "source": [
    "import pandas\n",
    "atletas_2016 = pandas.read_csv(\"datasets/2016_atletas.csv\")\n",
    "clubes_2016 = pandas.read_csv(\"datasets/2016_clubes.csv\")\n",
    "scout_2016 = pandas.read_csv(\"datasets/2016_scouts.csv\")\n"
   ]
  },
  {
   "cell_type": "code",
   "execution_count": 2,
   "metadata": {},
   "outputs": [
    {
     "name": "stdout",
     "output_type": "stream",
     "text": [
      "Index(['atleta_id', 'rodada', 'clube_id', 'participou', 'pontos_num',\n",
      "       'media_num', 'preco_num', 'variacao_num', 'FS', 'PE', 'A', 'FT', 'FD',\n",
      "       'FF', 'G', 'I', 'PP', 'RB', 'FC', 'GC', 'CA', 'CV', 'SG', 'DD', 'DP',\n",
      "       'GS'],\n",
      "      dtype='object')\n"
     ]
    }
   ],
   "source": [
    "print(scout_2016.columns)"
   ]
  },
  {
   "cell_type": "code",
   "execution_count": 3,
   "metadata": {},
   "outputs": [
    {
     "name": "stdout",
     "output_type": "stream",
     "text": [
      "Index(['id', 'apelido', 'clube_id', 'posicao_id'], dtype='object')\n"
     ]
    }
   ],
   "source": [
    "print(atletas_2016.columns)"
   ]
  },
  {
   "cell_type": "code",
   "execution_count": 4,
   "metadata": {},
   "outputs": [],
   "source": [
    "scouts = scout_2016[['atleta_id','clube_id', 'rodada','pontos_num', 'preco_num']]\n"
   ]
  },
  {
   "cell_type": "code",
   "execution_count": 5,
   "metadata": {},
   "outputs": [],
   "source": [
    "soma_pontos = scouts.groupby(['atleta_id']).pontos_num.sum()"
   ]
  },
  {
   "cell_type": "code",
   "execution_count": 6,
   "metadata": {},
   "outputs": [
    {
     "data": {
      "text/plain": [
       "atleta_id\n",
       "68952    211.0\n",
       "62121    189.3\n",
       "87863    183.7\n",
       "88065    176.7\n",
       "87552    171.8\n",
       "86485    169.4\n",
       "68911    167.0\n",
       "87999    164.3\n",
       "50284    164.2\n",
       "71892    157.9\n",
       "Name: pontos_num, dtype: float64"
      ]
     },
     "execution_count": 6,
     "metadata": {},
     "output_type": "execute_result"
    }
   ],
   "source": [
    "soma_pontos.sort_values(ascending=False)[:10]"
   ]
  },
  {
   "cell_type": "code",
   "execution_count": 7,
   "metadata": {},
   "outputs": [
    {
     "data": {
      "text/plain": [
       "atleta_id\n",
       "86754   -8.8\n",
       "84847   -7.9\n",
       "71724   -7.6\n",
       "86527   -6.8\n",
       "37917   -6.5\n",
       "82613   -6.2\n",
       "37788   -5.9\n",
       "78151   -5.4\n",
       "82403   -4.6\n",
       "71719   -4.2\n",
       "Name: pontos_num, dtype: float64"
      ]
     },
     "execution_count": 7,
     "metadata": {},
     "output_type": "execute_result"
    }
   ],
   "source": [
    "soma_pontos.sort_values()[:10]"
   ]
  },
  {
   "cell_type": "code",
   "execution_count": 8,
   "metadata": {},
   "outputs": [],
   "source": [
    "soma = pandas.DataFrame(pandas.Series(soma_pontos))"
   ]
  },
  {
   "cell_type": "code",
   "execution_count": 9,
   "metadata": {},
   "outputs": [
    {
     "data": {
      "text/html": [
       "<div>\n",
       "<style scoped>\n",
       "    .dataframe tbody tr th:only-of-type {\n",
       "        vertical-align: middle;\n",
       "    }\n",
       "\n",
       "    .dataframe tbody tr th {\n",
       "        vertical-align: top;\n",
       "    }\n",
       "\n",
       "    .dataframe thead th {\n",
       "        text-align: right;\n",
       "    }\n",
       "</style>\n",
       "<table border=\"1\" class=\"dataframe\">\n",
       "  <thead>\n",
       "    <tr style=\"text-align: right;\">\n",
       "      <th></th>\n",
       "      <th>pontos_num</th>\n",
       "    </tr>\n",
       "    <tr>\n",
       "      <th>atleta_id</th>\n",
       "      <th></th>\n",
       "    </tr>\n",
       "  </thead>\n",
       "  <tbody>\n",
       "    <tr>\n",
       "      <th>36540</th>\n",
       "      <td>32.3</td>\n",
       "    </tr>\n",
       "    <tr>\n",
       "      <th>36591</th>\n",
       "      <td>0.0</td>\n",
       "    </tr>\n",
       "    <tr>\n",
       "      <th>36612</th>\n",
       "      <td>81.4</td>\n",
       "    </tr>\n",
       "    <tr>\n",
       "      <th>36650</th>\n",
       "      <td>48.3</td>\n",
       "    </tr>\n",
       "    <tr>\n",
       "      <th>36856</th>\n",
       "      <td>32.0</td>\n",
       "    </tr>\n",
       "  </tbody>\n",
       "</table>\n",
       "</div>"
      ],
      "text/plain": [
       "           pontos_num\n",
       "atleta_id            \n",
       "36540            32.3\n",
       "36591             0.0\n",
       "36612            81.4\n",
       "36650            48.3\n",
       "36856            32.0"
      ]
     },
     "execution_count": 9,
     "metadata": {},
     "output_type": "execute_result"
    }
   ],
   "source": [
    "soma.head()"
   ]
  },
  {
   "cell_type": "code",
   "execution_count": 10,
   "metadata": {},
   "outputs": [],
   "source": [
    "atletas = atletas_2016[['id', 'apelido']]"
   ]
  },
  {
   "cell_type": "code",
   "execution_count": 11,
   "metadata": {},
   "outputs": [
    {
     "data": {
      "text/html": [
       "<div>\n",
       "<style scoped>\n",
       "    .dataframe tbody tr th:only-of-type {\n",
       "        vertical-align: middle;\n",
       "    }\n",
       "\n",
       "    .dataframe tbody tr th {\n",
       "        vertical-align: top;\n",
       "    }\n",
       "\n",
       "    .dataframe thead th {\n",
       "        text-align: right;\n",
       "    }\n",
       "</style>\n",
       "<table border=\"1\" class=\"dataframe\">\n",
       "  <thead>\n",
       "    <tr style=\"text-align: right;\">\n",
       "      <th></th>\n",
       "      <th>id</th>\n",
       "      <th>apelido</th>\n",
       "    </tr>\n",
       "  </thead>\n",
       "  <tbody>\n",
       "    <tr>\n",
       "      <th>0</th>\n",
       "      <td>89258</td>\n",
       "      <td>Daniel</td>\n",
       "    </tr>\n",
       "    <tr>\n",
       "      <th>1</th>\n",
       "      <td>68873</td>\n",
       "      <td>Paulo Victor</td>\n",
       "    </tr>\n",
       "    <tr>\n",
       "      <th>2</th>\n",
       "      <td>79066</td>\n",
       "      <td>Alex Muralha</td>\n",
       "    </tr>\n",
       "    <tr>\n",
       "      <th>3</th>\n",
       "      <td>91194</td>\n",
       "      <td>Thiago</td>\n",
       "    </tr>\n",
       "    <tr>\n",
       "      <th>4</th>\n",
       "      <td>38109</td>\n",
       "      <td>Jefferson</td>\n",
       "    </tr>\n",
       "  </tbody>\n",
       "</table>\n",
       "</div>"
      ],
      "text/plain": [
       "      id       apelido\n",
       "0  89258        Daniel\n",
       "1  68873  Paulo Victor\n",
       "2  79066  Alex Muralha\n",
       "3  91194        Thiago\n",
       "4  38109     Jefferson"
      ]
     },
     "execution_count": 11,
     "metadata": {},
     "output_type": "execute_result"
    }
   ],
   "source": [
    "atletas.head()"
   ]
  },
  {
   "cell_type": "code",
   "execution_count": 12,
   "metadata": {},
   "outputs": [],
   "source": [
    "result_top_10 = pandas.DataFrame(columns =  [\"Nome\",\"Time\", \"Soma\"]) "
   ]
  },
  {
   "cell_type": "code",
   "execution_count": 13,
   "metadata": {},
   "outputs": [],
   "source": [
    "def atleta_completo(id):\n",
    "    for row in atletas_2016.iterrows():\n",
    "        ide=row[1]['id']\n",
    "        if ide == id:\n",
    "            nome = row[1]['apelido']\n",
    "            clube_ide = row[1]['clube_id']\n",
    "            for row_clube in clubes_2016.iterrows():\n",
    "                if clube_ide == row_clube[1]['id']:\n",
    "                    clube_nome = row_clube[1]['nome']\n",
    "    return[nome, clube_nome]            \n",
    "    "
   ]
  },
  {
   "cell_type": "code",
   "execution_count": 14,
   "metadata": {},
   "outputs": [],
   "source": [
    "for row in atletas.iterrows():\n",
    "    ide=row[1]['id']\n",
    "    for row_soma in soma_pontos.iteritems():\n",
    "        soma = row_soma[1]\n",
    "        if ide == row_soma[0]:\n",
    "            atleta = atleta_completo(ide)\n",
    "            nome_atleta = atleta[0]\n",
    "            clube_atleta = atleta[1]\n",
    "            list1 = [nome_atleta,clube_atleta, soma] \n",
    "            result_top_10.loc[len(result_top_10)] = list1\n",
    "            "
   ]
  },
  {
   "cell_type": "code",
   "execution_count": 15,
   "metadata": {},
   "outputs": [
    {
     "data": {
      "text/html": [
       "<div>\n",
       "<style scoped>\n",
       "    .dataframe tbody tr th:only-of-type {\n",
       "        vertical-align: middle;\n",
       "    }\n",
       "\n",
       "    .dataframe tbody tr th {\n",
       "        vertical-align: top;\n",
       "    }\n",
       "\n",
       "    .dataframe thead th {\n",
       "        text-align: right;\n",
       "    }\n",
       "</style>\n",
       "<table border=\"1\" class=\"dataframe\">\n",
       "  <thead>\n",
       "    <tr style=\"text-align: right;\">\n",
       "      <th></th>\n",
       "      <th>Nome</th>\n",
       "      <th>Time</th>\n",
       "      <th>Soma</th>\n",
       "    </tr>\n",
       "  </thead>\n",
       "  <tbody>\n",
       "    <tr>\n",
       "      <th>856</th>\n",
       "      <td>Marinho</td>\n",
       "      <td>Vitória</td>\n",
       "      <td>211.0</td>\n",
       "    </tr>\n",
       "    <tr>\n",
       "      <th>29</th>\n",
       "      <td>Vanderlei</td>\n",
       "      <td>Santos</td>\n",
       "      <td>189.3</td>\n",
       "    </tr>\n",
       "    <tr>\n",
       "      <th>523</th>\n",
       "      <td>Arrascaeta</td>\n",
       "      <td>Cruzeiro</td>\n",
       "      <td>183.7</td>\n",
       "    </tr>\n",
       "    <tr>\n",
       "      <th>99</th>\n",
       "      <td>Jorge</td>\n",
       "      <td>Flamengo</td>\n",
       "      <td>176.7</td>\n",
       "    </tr>\n",
       "    <tr>\n",
       "      <th>483</th>\n",
       "      <td>Vitor Bueno</td>\n",
       "      <td>Santos</td>\n",
       "      <td>171.8</td>\n",
       "    </tr>\n",
       "    <tr>\n",
       "      <th>951</th>\n",
       "      <td>Keno</td>\n",
       "      <td>Santa Cruz</td>\n",
       "      <td>169.4</td>\n",
       "    </tr>\n",
       "    <tr>\n",
       "      <th>590</th>\n",
       "      <td>Diego Souza</td>\n",
       "      <td>Sport</td>\n",
       "      <td>167.0</td>\n",
       "    </tr>\n",
       "    <tr>\n",
       "      <th>441</th>\n",
       "      <td>Gustavo Scarpa</td>\n",
       "      <td>Fluminense</td>\n",
       "      <td>164.3</td>\n",
       "    </tr>\n",
       "    <tr>\n",
       "      <th>72</th>\n",
       "      <td>Wilson</td>\n",
       "      <td>Coritiba</td>\n",
       "      <td>164.2</td>\n",
       "    </tr>\n",
       "    <tr>\n",
       "      <th>120</th>\n",
       "      <td>Wellington Silva</td>\n",
       "      <td>Fluminense</td>\n",
       "      <td>157.9</td>\n",
       "    </tr>\n",
       "  </tbody>\n",
       "</table>\n",
       "</div>"
      ],
      "text/plain": [
       "                 Nome        Time   Soma\n",
       "856           Marinho     Vitória  211.0\n",
       "29          Vanderlei      Santos  189.3\n",
       "523        Arrascaeta    Cruzeiro  183.7\n",
       "99              Jorge    Flamengo  176.7\n",
       "483       Vitor Bueno      Santos  171.8\n",
       "951              Keno  Santa Cruz  169.4\n",
       "590       Diego Souza       Sport  167.0\n",
       "441    Gustavo Scarpa  Fluminense  164.3\n",
       "72             Wilson    Coritiba  164.2\n",
       "120  Wellington Silva  Fluminense  157.9"
      ]
     },
     "execution_count": 15,
     "metadata": {},
     "output_type": "execute_result"
    }
   ],
   "source": [
    "result_top_10.sort_values(by='Soma',ascending=False)[:10]"
   ]
  },
  {
   "cell_type": "code",
   "execution_count": null,
   "metadata": {},
   "outputs": [],
   "source": []
  }
 ],
 "metadata": {
  "kernelspec": {
   "display_name": "Python 3",
   "language": "python",
   "name": "python3"
  },
  "language_info": {
   "codemirror_mode": {
    "name": "ipython",
    "version": 3
   },
   "file_extension": ".py",
   "mimetype": "text/x-python",
   "name": "python",
   "nbconvert_exporter": "python",
   "pygments_lexer": "ipython3",
   "version": "3.6.1"
  }
 },
 "nbformat": 4,
 "nbformat_minor": 2
}
