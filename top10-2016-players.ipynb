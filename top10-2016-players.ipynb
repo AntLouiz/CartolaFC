{
 "cells": [
  {
   "cell_type": "code",
   "execution_count": 2,
   "metadata": {},
   "outputs": [],
   "source": [
    "import pandas\n",
    "atletas_2016 = pandas.read_csv(\"datasets/2016_atletas.csv\")\n",
    "clubes_2016 = pandas.read_csv(\"datasets/2016_clubes.csv\")\n",
    "scout_2016 = pandas.read_csv(\"datasets/2016_scouts.csv\")\n",
    "\n",
    "status = pandas.read_csv(\"datasets/status.csv\")\n",
    "posicoes = pandas.read_csv(\"datasets/posicoes.csv\")\n",
    "pontuacao = pandas.read_csv(\"datasets/pontuacao.csv\")\n"
   ]
  },
  {
   "cell_type": "code",
   "execution_count": 3,
   "metadata": {},
   "outputs": [
    {
     "name": "stdout",
     "output_type": "stream",
     "text": [
      "Index(['atleta_id', 'rodada', 'clube_id', 'participou', 'pontos_num',\n",
      "       'media_num', 'preco_num', 'variacao_num', 'FS', 'PE', 'A', 'FT', 'FD',\n",
      "       'FF', 'G', 'I', 'PP', 'RB', 'FC', 'GC', 'CA', 'CV', 'SG', 'DD', 'DP',\n",
      "       'GS'],\n",
      "      dtype='object')\n"
     ]
    }
   ],
   "source": [
    "print(scout_2016.columns)"
   ]
  },
  {
   "cell_type": "code",
   "execution_count": 4,
   "metadata": {},
   "outputs": [
    {
     "name": "stdout",
     "output_type": "stream",
     "text": [
      "Index(['id', 'apelido', 'clube_id', 'posicao_id'], dtype='object')\n"
     ]
    }
   ],
   "source": [
    "print(atletas_2016.columns)"
   ]
  },
  {
   "cell_type": "code",
   "execution_count": 5,
   "metadata": {},
   "outputs": [],
   "source": [
    "scouts = scout_2016[['atleta_id','clube_id','participou', 'rodada','pontos_num', 'preco_num']]\n"
   ]
  },
  {
   "cell_type": "code",
   "execution_count": 6,
   "metadata": {},
   "outputs": [],
   "source": [
    "soma_pontos = scouts.groupby(['atleta_id']).pontos_num.sum()"
   ]
  },
  {
   "cell_type": "code",
   "execution_count": 7,
   "metadata": {},
   "outputs": [
    {
     "data": {
      "text/plain": [
       "atleta_id\n",
       "68952    211.0\n",
       "62121    189.3\n",
       "87863    183.7\n",
       "88065    176.7\n",
       "87552    171.8\n",
       "86485    169.4\n",
       "68911    167.0\n",
       "87999    164.3\n",
       "50284    164.2\n",
       "71892    157.9\n",
       "Name: pontos_num, dtype: float64"
      ]
     },
     "execution_count": 7,
     "metadata": {},
     "output_type": "execute_result"
    }
   ],
   "source": [
    "soma_pontos.sort_values(ascending=False)[:10]"
   ]
  },
  {
   "cell_type": "code",
   "execution_count": 8,
   "metadata": {},
   "outputs": [
    {
     "data": {
      "text/plain": [
       "atleta_id\n",
       "86754   -8.8\n",
       "84847   -7.9\n",
       "71724   -7.6\n",
       "86527   -6.8\n",
       "37917   -6.5\n",
       "82613   -6.2\n",
       "37788   -5.9\n",
       "78151   -5.4\n",
       "82403   -4.6\n",
       "71719   -4.2\n",
       "Name: pontos_num, dtype: float64"
      ]
     },
     "execution_count": 8,
     "metadata": {},
     "output_type": "execute_result"
    }
   ],
   "source": [
    "soma_pontos.sort_values()[:10]"
   ]
  },
  {
   "cell_type": "code",
   "execution_count": 9,
   "metadata": {},
   "outputs": [],
   "source": [
    "soma = pandas.DataFrame(pandas.Series(soma_pontos))"
   ]
  },
  {
   "cell_type": "code",
   "execution_count": 10,
   "metadata": {},
   "outputs": [
    {
     "data": {
      "text/html": [
       "<div>\n",
       "<style scoped>\n",
       "    .dataframe tbody tr th:only-of-type {\n",
       "        vertical-align: middle;\n",
       "    }\n",
       "\n",
       "    .dataframe tbody tr th {\n",
       "        vertical-align: top;\n",
       "    }\n",
       "\n",
       "    .dataframe thead th {\n",
       "        text-align: right;\n",
       "    }\n",
       "</style>\n",
       "<table border=\"1\" class=\"dataframe\">\n",
       "  <thead>\n",
       "    <tr style=\"text-align: right;\">\n",
       "      <th></th>\n",
       "      <th>pontos_num</th>\n",
       "    </tr>\n",
       "    <tr>\n",
       "      <th>atleta_id</th>\n",
       "      <th></th>\n",
       "    </tr>\n",
       "  </thead>\n",
       "  <tbody>\n",
       "    <tr>\n",
       "      <th>36540</th>\n",
       "      <td>32.3</td>\n",
       "    </tr>\n",
       "    <tr>\n",
       "      <th>36591</th>\n",
       "      <td>0.0</td>\n",
       "    </tr>\n",
       "    <tr>\n",
       "      <th>36612</th>\n",
       "      <td>81.4</td>\n",
       "    </tr>\n",
       "    <tr>\n",
       "      <th>36650</th>\n",
       "      <td>48.3</td>\n",
       "    </tr>\n",
       "    <tr>\n",
       "      <th>36856</th>\n",
       "      <td>32.0</td>\n",
       "    </tr>\n",
       "  </tbody>\n",
       "</table>\n",
       "</div>"
      ],
      "text/plain": [
       "           pontos_num\n",
       "atleta_id            \n",
       "36540            32.3\n",
       "36591             0.0\n",
       "36612            81.4\n",
       "36650            48.3\n",
       "36856            32.0"
      ]
     },
     "execution_count": 10,
     "metadata": {},
     "output_type": "execute_result"
    }
   ],
   "source": [
    "soma.head()"
   ]
  },
  {
   "cell_type": "code",
   "execution_count": 33,
   "metadata": {},
   "outputs": [],
   "source": [
    "atletas_completo = pandas.DataFrame(columns =  [\"ID\",\"Nome\",\"Time\",\"Posição\",]) "
   ]
  },
  {
   "cell_type": "code",
   "execution_count": 34,
   "metadata": {},
   "outputs": [],
   "source": [
    "for row in atletas_2016.iterrows():\n",
    "    \n",
    "    ide=row[1]['id']\n",
    "    pos = row[1]['posicao_id']\n",
    "    nome = row[1]['apelido']\n",
    "    clube_ide = row[1]['clube_id']\n",
    "    for row_clube in clubes_2016.iterrows():\n",
    "        if clube_ide == row_clube[1]['id']:\n",
    "            clube_nome = row_clube[1]['nome']\n",
    "    for row_pos in posicoes.iterrows():\n",
    "        if pos == row_pos[1]['id']:\n",
    "            posicao = row_pos[1]['nome']\n",
    "    lista1 = [ide, nome, clube_nome, posicao] \n",
    "    atletas_completo.loc[len(atletas_completo)] = lista1           \n",
    "       "
   ]
  },
  {
   "cell_type": "code",
   "execution_count": 35,
   "metadata": {},
   "outputs": [
    {
     "data": {
      "text/html": [
       "<div>\n",
       "<style scoped>\n",
       "    .dataframe tbody tr th:only-of-type {\n",
       "        vertical-align: middle;\n",
       "    }\n",
       "\n",
       "    .dataframe tbody tr th {\n",
       "        vertical-align: top;\n",
       "    }\n",
       "\n",
       "    .dataframe thead th {\n",
       "        text-align: right;\n",
       "    }\n",
       "</style>\n",
       "<table border=\"1\" class=\"dataframe\">\n",
       "  <thead>\n",
       "    <tr style=\"text-align: right;\">\n",
       "      <th></th>\n",
       "      <th>ID</th>\n",
       "      <th>Nome</th>\n",
       "      <th>Time</th>\n",
       "      <th>Posição</th>\n",
       "    </tr>\n",
       "  </thead>\n",
       "  <tbody>\n",
       "    <tr>\n",
       "      <th>0</th>\n",
       "      <td>89258</td>\n",
       "      <td>Daniel</td>\n",
       "      <td>Flamengo</td>\n",
       "      <td>Goleiro</td>\n",
       "    </tr>\n",
       "    <tr>\n",
       "      <th>1</th>\n",
       "      <td>68873</td>\n",
       "      <td>Paulo Victor</td>\n",
       "      <td>Flamengo</td>\n",
       "      <td>Goleiro</td>\n",
       "    </tr>\n",
       "    <tr>\n",
       "      <th>2</th>\n",
       "      <td>79066</td>\n",
       "      <td>Alex Muralha</td>\n",
       "      <td>Flamengo</td>\n",
       "      <td>Goleiro</td>\n",
       "    </tr>\n",
       "    <tr>\n",
       "      <th>3</th>\n",
       "      <td>91194</td>\n",
       "      <td>Thiago</td>\n",
       "      <td>Flamengo</td>\n",
       "      <td>Goleiro</td>\n",
       "    </tr>\n",
       "    <tr>\n",
       "      <th>4</th>\n",
       "      <td>38109</td>\n",
       "      <td>Jefferson</td>\n",
       "      <td>Botafogo</td>\n",
       "      <td>Goleiro</td>\n",
       "    </tr>\n",
       "  </tbody>\n",
       "</table>\n",
       "</div>"
      ],
      "text/plain": [
       "      ID          Nome      Time  Posição\n",
       "0  89258        Daniel  Flamengo  Goleiro\n",
       "1  68873  Paulo Victor  Flamengo  Goleiro\n",
       "2  79066  Alex Muralha  Flamengo  Goleiro\n",
       "3  91194        Thiago  Flamengo  Goleiro\n",
       "4  38109     Jefferson  Botafogo  Goleiro"
      ]
     },
     "execution_count": 35,
     "metadata": {},
     "output_type": "execute_result"
    }
   ],
   "source": [
    "atletas_completo.head()"
   ]
  },
  {
   "cell_type": "code",
   "execution_count": null,
   "metadata": {},
   "outputs": [],
   "source": [
    "atletas = atletas_2016[['id', 'apelido']]"
   ]
  },
  {
   "cell_type": "code",
   "execution_count": 11,
   "metadata": {},
   "outputs": [
    {
     "data": {
      "text/html": [
       "<div>\n",
       "<style scoped>\n",
       "    .dataframe tbody tr th:only-of-type {\n",
       "        vertical-align: middle;\n",
       "    }\n",
       "\n",
       "    .dataframe tbody tr th {\n",
       "        vertical-align: top;\n",
       "    }\n",
       "\n",
       "    .dataframe thead th {\n",
       "        text-align: right;\n",
       "    }\n",
       "</style>\n",
       "<table border=\"1\" class=\"dataframe\">\n",
       "  <thead>\n",
       "    <tr style=\"text-align: right;\">\n",
       "      <th></th>\n",
       "      <th>id</th>\n",
       "      <th>apelido</th>\n",
       "    </tr>\n",
       "  </thead>\n",
       "  <tbody>\n",
       "    <tr>\n",
       "      <th>0</th>\n",
       "      <td>89258</td>\n",
       "      <td>Daniel</td>\n",
       "    </tr>\n",
       "    <tr>\n",
       "      <th>1</th>\n",
       "      <td>68873</td>\n",
       "      <td>Paulo Victor</td>\n",
       "    </tr>\n",
       "    <tr>\n",
       "      <th>2</th>\n",
       "      <td>79066</td>\n",
       "      <td>Alex Muralha</td>\n",
       "    </tr>\n",
       "    <tr>\n",
       "      <th>3</th>\n",
       "      <td>91194</td>\n",
       "      <td>Thiago</td>\n",
       "    </tr>\n",
       "    <tr>\n",
       "      <th>4</th>\n",
       "      <td>38109</td>\n",
       "      <td>Jefferson</td>\n",
       "    </tr>\n",
       "  </tbody>\n",
       "</table>\n",
       "</div>"
      ],
      "text/plain": [
       "      id       apelido\n",
       "0  89258        Daniel\n",
       "1  68873  Paulo Victor\n",
       "2  79066  Alex Muralha\n",
       "3  91194        Thiago\n",
       "4  38109     Jefferson"
      ]
     },
     "execution_count": 11,
     "metadata": {},
     "output_type": "execute_result"
    }
   ],
   "source": [
    "atletas.head()"
   ]
  },
  {
   "cell_type": "code",
   "execution_count": 12,
   "metadata": {},
   "outputs": [],
   "source": [
    "result_top_10 = pandas.DataFrame(columns =  [\"Nome\",\"Time\",\"Posição\",\"Partidas Jogadas\", \"Soma\"]) "
   ]
  },
  {
   "cell_type": "code",
   "execution_count": 28,
   "metadata": {},
   "outputs": [],
   "source": [
    "def atleta_completo(id):\n",
    "    for row in atletas_2016.iterrows():\n",
    "        ide=row[1]['id']\n",
    "        pos = row[1]['posicao_id']\n",
    "        jogos = 0\n",
    "        if ide == id:\n",
    "            nome = row[1]['apelido']\n",
    "            clube_ide = row[1]['clube_id']\n",
    "            for row_clube in clubes_2016.iterrows():\n",
    "                if clube_ide == row_clube[1]['id']:\n",
    "                    clube_nome = row_clube[1]['nome']\n",
    "            for row_pos in posicoes.iterrows():\n",
    "                if pos == row_pos[1]['id']:\n",
    "                    posicao = row_pos[1]['nome']\n",
    "            for row_scouts in scouts.iterrows():\n",
    "                if ide == row_scouts[1]['atleta_id']:\n",
    "                    if row_scouts[1]['participou']== True:\n",
    "                        jogos = jogos + 1 \n",
    "                \n",
    "    return[nome, clube_nome, posicao, jogos]            \n",
    "    "
   ]
  },
  {
   "cell_type": "code",
   "execution_count": 29,
   "metadata": {},
   "outputs": [],
   "source": [
    "for row in atletas.iterrows():\n",
    "    ide=row[1]['id']\n",
    "    for row_soma in soma_pontos.iteritems():\n",
    "        soma = row_soma[1]\n",
    "        if ide == row_soma[0]:\n",
    "            atleta = atleta_completo(ide)\n",
    "            nome_atleta = atleta[0]\n",
    "            clube_atleta = atleta[1]\n",
    "            posicao = atleta[2]\n",
    "            jogos = atleta[3]\n",
    "            list1 = [nome_atleta,clube_atleta,posicao, jogos, soma] \n",
    "            result_top_10.loc[len(result_top_10)] = list1\n",
    "            "
   ]
  },
  {
   "cell_type": "code",
   "execution_count": 30,
   "metadata": {},
   "outputs": [
    {
     "data": {
      "text/html": [
       "<div>\n",
       "<style scoped>\n",
       "    .dataframe tbody tr th:only-of-type {\n",
       "        vertical-align: middle;\n",
       "    }\n",
       "\n",
       "    .dataframe tbody tr th {\n",
       "        vertical-align: top;\n",
       "    }\n",
       "\n",
       "    .dataframe thead th {\n",
       "        text-align: right;\n",
       "    }\n",
       "</style>\n",
       "<table border=\"1\" class=\"dataframe\">\n",
       "  <thead>\n",
       "    <tr style=\"text-align: right;\">\n",
       "      <th></th>\n",
       "      <th>Nome</th>\n",
       "      <th>Time</th>\n",
       "      <th>Posição</th>\n",
       "      <th>Partidas Jogadas</th>\n",
       "      <th>Soma</th>\n",
       "    </tr>\n",
       "  </thead>\n",
       "  <tbody>\n",
       "    <tr>\n",
       "      <th>1975</th>\n",
       "      <td>Marinho</td>\n",
       "      <td>Vitória</td>\n",
       "      <td>Atacante</td>\n",
       "      <td>0</td>\n",
       "      <td>211.0</td>\n",
       "    </tr>\n",
       "    <tr>\n",
       "      <th>974</th>\n",
       "      <td>Marinho</td>\n",
       "      <td>Vitória</td>\n",
       "      <td>Atacante</td>\n",
       "      <td>0</td>\n",
       "      <td>211.0</td>\n",
       "    </tr>\n",
       "    <tr>\n",
       "      <th>29</th>\n",
       "      <td>Vanderlei</td>\n",
       "      <td>Santos</td>\n",
       "      <td>Goleiro</td>\n",
       "      <td>0</td>\n",
       "      <td>189.3</td>\n",
       "    </tr>\n",
       "    <tr>\n",
       "      <th>147</th>\n",
       "      <td>Vanderlei</td>\n",
       "      <td>Santos</td>\n",
       "      <td>Goleiro</td>\n",
       "      <td>0</td>\n",
       "      <td>189.3</td>\n",
       "    </tr>\n",
       "    <tr>\n",
       "      <th>1148</th>\n",
       "      <td>Vanderlei</td>\n",
       "      <td>Santos</td>\n",
       "      <td>Goleiro</td>\n",
       "      <td>0</td>\n",
       "      <td>189.3</td>\n",
       "    </tr>\n",
       "    <tr>\n",
       "      <th>1642</th>\n",
       "      <td>Arrascaeta</td>\n",
       "      <td>Cruzeiro</td>\n",
       "      <td>Meia</td>\n",
       "      <td>0</td>\n",
       "      <td>183.7</td>\n",
       "    </tr>\n",
       "    <tr>\n",
       "      <th>641</th>\n",
       "      <td>Arrascaeta</td>\n",
       "      <td>Cruzeiro</td>\n",
       "      <td>Meia</td>\n",
       "      <td>0</td>\n",
       "      <td>183.7</td>\n",
       "    </tr>\n",
       "    <tr>\n",
       "      <th>1218</th>\n",
       "      <td>Jorge</td>\n",
       "      <td>Flamengo</td>\n",
       "      <td>Lateral</td>\n",
       "      <td>0</td>\n",
       "      <td>176.7</td>\n",
       "    </tr>\n",
       "    <tr>\n",
       "      <th>217</th>\n",
       "      <td>Jorge</td>\n",
       "      <td>Flamengo</td>\n",
       "      <td>Lateral</td>\n",
       "      <td>0</td>\n",
       "      <td>176.7</td>\n",
       "    </tr>\n",
       "    <tr>\n",
       "      <th>99</th>\n",
       "      <td>Jorge</td>\n",
       "      <td>Flamengo</td>\n",
       "      <td>Lateral</td>\n",
       "      <td>0</td>\n",
       "      <td>176.7</td>\n",
       "    </tr>\n",
       "  </tbody>\n",
       "</table>\n",
       "</div>"
      ],
      "text/plain": [
       "            Nome      Time   Posição Partidas Jogadas   Soma\n",
       "1975     Marinho   Vitória  Atacante                0  211.0\n",
       "974      Marinho   Vitória  Atacante                0  211.0\n",
       "29     Vanderlei    Santos   Goleiro                0  189.3\n",
       "147    Vanderlei    Santos   Goleiro                0  189.3\n",
       "1148   Vanderlei    Santos   Goleiro                0  189.3\n",
       "1642  Arrascaeta  Cruzeiro      Meia                0  183.7\n",
       "641   Arrascaeta  Cruzeiro      Meia                0  183.7\n",
       "1218       Jorge  Flamengo   Lateral                0  176.7\n",
       "217        Jorge  Flamengo   Lateral                0  176.7\n",
       "99         Jorge  Flamengo   Lateral                0  176.7"
      ]
     },
     "execution_count": 30,
     "metadata": {},
     "output_type": "execute_result"
    }
   ],
   "source": [
    "result_top_10.sort_values(by='Soma',ascending=False)[:10]"
   ]
  },
  {
   "cell_type": "code",
   "execution_count": 31,
   "metadata": {},
   "outputs": [
    {
     "data": {
      "text/html": [
       "<div>\n",
       "<style scoped>\n",
       "    .dataframe tbody tr th:only-of-type {\n",
       "        vertical-align: middle;\n",
       "    }\n",
       "\n",
       "    .dataframe tbody tr th {\n",
       "        vertical-align: top;\n",
       "    }\n",
       "\n",
       "    .dataframe thead th {\n",
       "        text-align: right;\n",
       "    }\n",
       "</style>\n",
       "<table border=\"1\" class=\"dataframe\">\n",
       "  <thead>\n",
       "    <tr style=\"text-align: right;\">\n",
       "      <th></th>\n",
       "      <th>Nome</th>\n",
       "      <th>Time</th>\n",
       "      <th>Posição</th>\n",
       "      <th>Partidas Jogadas</th>\n",
       "      <th>Soma</th>\n",
       "    </tr>\n",
       "  </thead>\n",
       "  <tbody>\n",
       "    <tr>\n",
       "      <th>668</th>\n",
       "      <td>Guilherme Amorim</td>\n",
       "      <td>Grêmio</td>\n",
       "      <td>Meia</td>\n",
       "      <td>0</td>\n",
       "      <td>-8.8</td>\n",
       "    </tr>\n",
       "    <tr>\n",
       "      <th>1669</th>\n",
       "      <td>Guilherme Amorim</td>\n",
       "      <td>Grêmio</td>\n",
       "      <td>Meia</td>\n",
       "      <td>0</td>\n",
       "      <td>-8.8</td>\n",
       "    </tr>\n",
       "    <tr>\n",
       "      <th>1504</th>\n",
       "      <td>Luan Peres</td>\n",
       "      <td>Santa Cruz</td>\n",
       "      <td>Zagueiro</td>\n",
       "      <td>0</td>\n",
       "      <td>-7.9</td>\n",
       "    </tr>\n",
       "    <tr>\n",
       "      <th>503</th>\n",
       "      <td>Luan Peres</td>\n",
       "      <td>Santa Cruz</td>\n",
       "      <td>Zagueiro</td>\n",
       "      <td>0</td>\n",
       "      <td>-7.9</td>\n",
       "    </tr>\n",
       "    <tr>\n",
       "      <th>64</th>\n",
       "      <td>Agenor</td>\n",
       "      <td>Sport</td>\n",
       "      <td>Goleiro</td>\n",
       "      <td>0</td>\n",
       "      <td>-7.6</td>\n",
       "    </tr>\n",
       "    <tr>\n",
       "      <th>182</th>\n",
       "      <td>Agenor</td>\n",
       "      <td>Sport</td>\n",
       "      <td>Goleiro</td>\n",
       "      <td>0</td>\n",
       "      <td>-7.6</td>\n",
       "    </tr>\n",
       "    <tr>\n",
       "      <th>1183</th>\n",
       "      <td>Agenor</td>\n",
       "      <td>Sport</td>\n",
       "      <td>Goleiro</td>\n",
       "      <td>0</td>\n",
       "      <td>-7.6</td>\n",
       "    </tr>\n",
       "    <tr>\n",
       "      <th>839</th>\n",
       "      <td>Wellington Cézar</td>\n",
       "      <td>Santa Cruz</td>\n",
       "      <td>Meia</td>\n",
       "      <td>0</td>\n",
       "      <td>-6.8</td>\n",
       "    </tr>\n",
       "    <tr>\n",
       "      <th>1840</th>\n",
       "      <td>Wellington Cézar</td>\n",
       "      <td>Santa Cruz</td>\n",
       "      <td>Meia</td>\n",
       "      <td>0</td>\n",
       "      <td>-6.8</td>\n",
       "    </tr>\n",
       "    <tr>\n",
       "      <th>1605</th>\n",
       "      <td>Elano</td>\n",
       "      <td>Santos</td>\n",
       "      <td>Meia</td>\n",
       "      <td>0</td>\n",
       "      <td>-6.5</td>\n",
       "    </tr>\n",
       "  </tbody>\n",
       "</table>\n",
       "</div>"
      ],
      "text/plain": [
       "                  Nome        Time   Posição Partidas Jogadas  Soma\n",
       "668   Guilherme Amorim      Grêmio      Meia                0  -8.8\n",
       "1669  Guilherme Amorim      Grêmio      Meia                0  -8.8\n",
       "1504       Luan Peres   Santa Cruz  Zagueiro                0  -7.9\n",
       "503        Luan Peres   Santa Cruz  Zagueiro                0  -7.9\n",
       "64              Agenor       Sport   Goleiro                0  -7.6\n",
       "182             Agenor       Sport   Goleiro                0  -7.6\n",
       "1183            Agenor       Sport   Goleiro                0  -7.6\n",
       "839   Wellington Cézar  Santa Cruz      Meia                0  -6.8\n",
       "1840  Wellington Cézar  Santa Cruz      Meia                0  -6.8\n",
       "1605             Elano      Santos      Meia                0  -6.5"
      ]
     },
     "execution_count": 31,
     "metadata": {},
     "output_type": "execute_result"
    }
   ],
   "source": [
    "result_top_10.sort_values(by='Soma')[:10]"
   ]
  },
  {
   "cell_type": "code",
   "execution_count": 32,
   "metadata": {},
   "outputs": [],
   "source": [
    "def top10_posicao(data, posicao):\n",
    "    top = data['Posição'] == posicao\n",
    "    top10 = data[top].sort_values(by='Soma', ascending=False)[:10]\n",
    "    return top10\n",
    "    "
   ]
  },
  {
   "cell_type": "code",
   "execution_count": 33,
   "metadata": {},
   "outputs": [],
   "source": [
    "meia = top10_posicao(result_top_10, \"Meia\")"
   ]
  },
  {
   "cell_type": "code",
   "execution_count": 34,
   "metadata": {},
   "outputs": [
    {
     "name": "stdout",
     "output_type": "stream",
     "text": [
      "              Nome      Time  Posição Partidas Jogadas   Soma\n",
      "1148     Vanderlei    Santos  Goleiro                0  189.3\n",
      "147      Vanderlei    Santos  Goleiro                0  189.3\n",
      "29       Vanderlei    Santos  Goleiro                0  189.3\n",
      "190         Wilson  Coritiba  Goleiro                0  164.2\n",
      "1191        Wilson  Coritiba  Goleiro                0  164.2\n",
      "72          Wilson  Coritiba  Goleiro                0  164.2\n",
      "1121  Alex Muralha  Flamengo  Goleiro                0  153.0\n",
      "2     Alex Muralha  Flamengo  Goleiro                0  153.0\n",
      "120   Alex Muralha  Flamengo  Goleiro                0  153.0\n",
      "5            Sidão  Botafogo  Goleiro                0  146.1\n",
      "********************************************************************************\n",
      "                  Nome         Time  Posição Partidas Jogadas   Soma\n",
      "217              Jorge     Flamengo  Lateral                0  176.7\n",
      "99               Jorge     Flamengo  Lateral                0  176.7\n",
      "1218             Jorge     Flamengo  Lateral                0  176.7\n",
      "238   Wellington Silva   Fluminense  Lateral                0  157.9\n",
      "1239  Wellington Silva   Fluminense  Lateral                0  157.9\n",
      "112             Fagner  Corinthians  Lateral                0  145.5\n",
      "230             Fagner  Corinthians  Lateral                0  145.5\n",
      "1231            Fagner  Corinthians  Lateral                0  145.5\n",
      "1290       Diego Renan      Vitória  Lateral                0  138.0\n",
      "289        Diego Renan      Vitória  Lateral                0  138.0\n",
      "********************************************************************************\n",
      "                Nome         Time   Posição Partidas Jogadas   Soma\n",
      "1422   Pedro Geromel       Grêmio  Zagueiro                0  154.0\n",
      "421    Pedro Geromel       Grêmio  Zagueiro                0  154.0\n",
      "465          Juninho     Coritiba  Zagueiro                0  144.7\n",
      "1466         Juninho     Coritiba  Zagueiro                0  144.7\n",
      "1366  Emerson Santos     Botafogo  Zagueiro                0  121.4\n",
      "365   Emerson Santos     Botafogo  Zagueiro                0  121.4\n",
      "1361           Réver     Flamengo  Zagueiro                0  118.3\n",
      "360            Réver     Flamengo  Zagueiro                0  118.3\n",
      "1459   Thiago Heleno  Atlético-PR  Zagueiro                0  114.8\n",
      "458    Thiago Heleno  Atlético-PR  Zagueiro                0  114.8\n",
      "********************************************************************************\n",
      "                Nome        Time Posição Partidas Jogadas   Soma\n",
      "1642      Arrascaeta    Cruzeiro    Meia                0  183.7\n",
      "641       Arrascaeta    Cruzeiro    Meia                0  183.7\n",
      "601      Vitor Bueno      Santos    Meia                0  171.8\n",
      "1602     Vitor Bueno      Santos    Meia                0  171.8\n",
      "708      Diego Souza       Sport    Meia                0  167.0\n",
      "1709     Diego Souza       Sport    Meia                0  167.0\n",
      "559   Gustavo Scarpa  Fluminense    Meia                0  164.3\n",
      "1560  Gustavo Scarpa  Fluminense    Meia                0  164.3\n",
      "516     Willian Arão    Flamengo    Meia                0  156.2\n",
      "1517    Willian Arão    Flamengo    Meia                0  156.2\n",
      "********************************************************************************\n",
      "               Nome         Time   Posição Partidas Jogadas   Soma\n",
      "974         Marinho      Vitória  Atacante                0  211.0\n",
      "1975        Marinho      Vitória  Atacante                0  211.0\n",
      "2070           Keno   Santa Cruz  Atacante                0  169.4\n",
      "1069           Keno   Santa Cruz  Atacante                0  169.4\n",
      "1887  Gabriel Jesus    Palmeiras  Atacante                0  153.3\n",
      "886   Gabriel Jesus    Palmeiras  Atacante                0  153.3\n",
      "1925        Robinho  Atlético-MG  Atacante                0  147.4\n",
      "924         Robinho  Atlético-MG  Atacante                0  147.4\n",
      "1892           Dudu    Palmeiras  Atacante                0  142.4\n",
      "891            Dudu    Palmeiras  Atacante                0  142.4\n",
      "********************************************************************************\n",
      "                  Nome         Time  Posição Partidas Jogadas    Soma\n",
      "1072        Zé Ricardo     Flamengo  Técnico                0  150.98\n",
      "2073        Zé Ricardo     Flamengo  Técnico                0  150.98\n",
      "2087    Dorival Júnior       Santos  Técnico                0  148.83\n",
      "1086    Dorival Júnior       Santos  Técnico                0  148.83\n",
      "2082              Cuca    Palmeiras  Técnico                0  139.92\n",
      "1081              Cuca    Palmeiras  Técnico                0  139.92\n",
      "2088  Marcelo Oliveira  Atlético-MG  Técnico                0  136.43\n",
      "1087  Marcelo Oliveira  Atlético-MG  Técnico                0  136.43\n",
      "1083     Ricardo Gomes    São Paulo  Técnico                0  115.57\n",
      "2084     Ricardo Gomes    São Paulo  Técnico                0  115.57\n",
      "********************************************************************************\n"
     ]
    }
   ],
   "source": [
    "for row_pos in posicoes.iterrows():\n",
    "    posicao = row_pos[1]['nome']\n",
    "    top10 = top10_posicao(result_top_10, posicao)\n",
    "    print(top10)\n",
    "    print('*'*80)"
   ]
  },
  {
   "cell_type": "code",
   "execution_count": null,
   "metadata": {},
   "outputs": [],
   "source": []
  },
  {
   "cell_type": "code",
   "execution_count": null,
   "metadata": {},
   "outputs": [],
   "source": []
  }
 ],
 "metadata": {
  "kernelspec": {
   "display_name": "Python 3",
   "language": "python",
   "name": "python3"
  },
  "language_info": {
   "codemirror_mode": {
    "name": "ipython",
    "version": 3
   },
   "file_extension": ".py",
   "mimetype": "text/x-python",
   "name": "python",
   "nbconvert_exporter": "python",
   "pygments_lexer": "ipython3",
   "version": "3.6.1"
  }
 },
 "nbformat": 4,
 "nbformat_minor": 2
}
